{
 "cells": [
  {
   "cell_type": "markdown",
   "metadata": {},
   "source": [
    "# Analyse der KantonsrätInnen: Das Ranking zum Ende der Legislatur\n",
    "Anlässlich der Kantonsratswahlen 2019 analysieren wir das Abstimmungsverhalten, die Anwesenheit und die Aktivität der Parlamentarier. Analyseitraum (Legislatur 15/19 bis Ende 2018)\n",
    "- Daten für Abstimmung: Von den Parlamentsdiensten zur Verfügung gestellt (Legislatur bis Ende 2018(Amtsjahr 2018/2019 keine Codierung für Art der Abstimmung))\n",
    "- Daten für Voralgen gescraped mit diesem Script:\n",
    "https://github.com/spatrice/kantonsrat_pi/blob/master/kantonsrat_scraper.ipynb\n",
    "- Artikel im Tages-Anzeiger erschienen am 11.3 (ABO+): https://www.tagesanzeiger.ch/zuerich/stadt/Das-exklusive-TopTenRanking-der-Zuercher-Politik/story/26224484"
   ]
  },
  {
   "cell_type": "code",
   "execution_count": null,
   "metadata": {},
   "outputs": [],
   "source": [
    "#my standard library import\n",
    "import pandas as pd\n",
    "from selenium import webdriver\n",
    "from selenium.webdriver.common.keys import Keys\n",
    "from selenium.webdriver.support.ui import Select\n",
    "from selenium.webdriver.support.ui import WebDriverWait\n",
    "from selenium.webdriver.common.action_chains import ActionChains\n",
    "import requests\n",
    "from bs4 import BeautifulSoup\n",
    "import PyPDF2\n",
    "import re\n",
    "import time\n",
    "import matplotlib\n",
    "import matplotlib.pyplot as plt\n",
    "%matplotlib inline\n",
    "from cycler import cycler\n",
    "plt.rcParams.update(\n",
    "    {\"figure.facecolor\": \"#ffffff\",\n",
    "              \"axes.facecolor\": \"#ffffff\",\n",
    "              \"axes.grid\" : True,\n",
    "              \"axes.grid.axis\" : \"y\",\n",
    "              \"grid.color\"    : \"ededed\",\n",
    "              \"grid.linewidth\": 0.8,\n",
    "              \"grid.alpha\": 0.8,\n",
    "              \"axes.spines.left\" : False,\n",
    "              \"axes.spines.right\" : False,\n",
    "              \"axes.spines.top\" : False,\n",
    "              \"axes.spines.bottom\" : False,\n",
    "              \"axes.axisbelow\": False,\n",
    "              \"ytick.major.size\": 0,     \n",
    "              \"ytick.minor.size\": 0,\n",
    "              #\"xtick.direction\" : \"none\",\n",
    "              \"xtick.minor.size\": 0,\n",
    "              \"xtick.major.size\" : 0,\n",
    "              \"xtick.color\"      : \"#191919\",\n",
    "              \"axes.edgecolor\"    :\"#191919\",\n",
    "              \"axes.prop_cycle\" : plt.cycler('color', ['#0c2c84', '#c7e9b4', \n",
    "                                                       '#225ea8','#1d91c0', '#41b6c4', \n",
    "                                                       '#7fcdbb', '#eaea8c']),\n",
    "    'pdf.fonttype': 42,\n",
    "    'ps.fonttype': 42\n",
    "})\n",
    "cycle = plt.rcParams['axes.prop_cycle'].by_key()['color']\n",
    "pd.options.display.max_columns = 200\n",
    "pd.options.display.max_rows = 500\n",
    "\n",
    "import glob\n"
   ]
  },
  {
   "cell_type": "code",
   "execution_count": null,
   "metadata": {},
   "outputs": [],
   "source": [
    "#importiere alle .csv Daten, welche die Parlamentsdienste angeliefert haben\n",
    "filenames = glob.glob('daten/Voting_Kantonsrat*.csv')\n",
    "print('Zahl der Abstimmungen:',len(filenames))\n",
    "#columnames['s_nr', 'g_name', 'g_nr',]\n",
    "# 4,5,6,7,16,17"
   ]
  },
  {
   "cell_type": "markdown",
   "metadata": {},
   "source": [
    "### Achtung: Daten sind tricky\n",
    "\n",
    "Mergen zu einem Datensatz ist mit Schwierigkeiten verbunden. Daten der Parlamentsdienste enthalten keinen Header. Weiteres Problem: Anzahl der Spalten variiert zwischen 19 und 23. Manchmal fehlen Geschäftsnummern, manchmal Spalten am Schluss, manchmal auch dazwischen.\n",
    "\n",
    "Lösung für unsere Analyse: Wir brauchen nur die Namen, die Filenamen und das individuelle Abstimmungsverhalten, sowie für die Abwesenden den Abstimmungstyp. \n",
    "\n",
    "Deshalb Logik in Loop eingebaut: Script sucht das Geschlecht / Anrede (Herr/Frau), nimmt diese Spalte und die vier darauffolgenden. Danach schaut das Script, in welcher Spalte erstmals die Werte J, N, A oder E vorkommen. Das ist die Spalte mit dem individuellen Abstimmungsverhalten. Für die Abstimmungsart verwendet der Loop erneut das Geschlecht als Ankerpunkt. In allen Files ist die Abstimmungsart 3 Spalten neben dem Geschlecht."
   ]
  },
  {
   "cell_type": "code",
   "execution_count": null,
   "metadata": {},
   "outputs": [],
   "source": [
    "df = pd.DataFrame()\n",
    "koko = [0] #für den Loop, damit er koko kennt.\n",
    "cc = 0\n",
    "for filename in filenames:\n",
    "    dataframes = pd.read_csv(filename, sep=';', encoding='Latin1', header=-1, dtype=str)\n",
    "    if len(dataframes)>180:\n",
    "        print(len(dataframes))\n",
    "        dataframes = dataframes.dropna()\n",
    "        print(len(dataframes))\n",
    "    count = -1 #startet bei minus -1 damit erster Wert 0 ist.\n",
    "    cc +=1 #für der printoutput\n",
    "    gender = 0\n",
    "    result = []\n",
    "    for col in dataframes.columns:\n",
    "        count +=1\n",
    "        if dataframes[col].iloc[1] in ['Herr', 'Frau']: #ist Herr oder Frau eine Ausprägung, schreib count in gender\n",
    "            gender = count\n",
    "            koko = [kolon for kolon in range(gender, gender+4)] #liste mit Werte für Columns erstellen\n",
    "            votetype = gender-3 #um später Quorums-Abstimmungen rauszufiltern\n",
    "        if col > koko[-1]: #weil ich weiss, dass das individuelle Abstimmungsverhalten nach der letzten koko Spalte kommt und darauf nur Zahlen folgen    \n",
    "            if dataframes[col].str.contains('[JNEA]').values[0]:\n",
    "                  result.append(count) #weil Loop durchläuft liste füllen, erstes Element später wählen\n",
    "    koko.append(result[0])\n",
    "    koko.insert(0,votetype)\n",
    "    dataframes = dataframes.iloc[:,koko]\n",
    "    dataframes.columns = ['votetype','gender', 'nachname', 'vorname','p_partei', 'p_result']\n",
    "    votetype_def = dataframes['votetype'].iloc[0]\n",
    "    dataframes['votetype_def'] = votetype_def\n",
    "    dataframes['filename'] = filename\n",
    "    print(\"Noch\", str(len(filenames)-cc), \"müssen geladen werden.\")\n",
    "    df = pd.concat([df, dataframes], sort=False)\n",
    "data = df\n",
    "df.head()"
   ]
  },
  {
   "cell_type": "code",
   "execution_count": null,
   "metadata": {},
   "outputs": [],
   "source": [
    "#Daten etwas aufbretzeln\n",
    "df['gender']=df['gender'].str.strip()\n",
    "df['jahr'] = df['filename'].str.extract('daten/Voting_Kantonsrat_(\\d\\d\\d\\d)')\n",
    "df['datum'] = df['filename'].str.extract('daten/Voting_Kantonsrat_(\\d\\d\\d\\d_\\d\\d_\\d\\d)')\n",
    "df['datum'] = df['datum'].str.replace('_', '/')\n",
    "df['datum'] = pd.to_datetime(df['datum'], format=\"%Y/%m/%d\")\n",
    "df['vorname'] = df['vorname'].str.strip()\n",
    "df['nachname'] = df['nachname'].str.strip()\n",
    "df['name'] = df['vorname'] + ' ' + df['nachname'] + ' ' + '('+ df['p_partei'] + ')'\n",
    "df = df.sort_values('datum')\n",
    "#Ergänze Daten mit Präsidium, wichtig für Zählung der Abwesenden\n",
    "df['amtsjahr'] = 0\n",
    "df['amtsjahr'][(df['datum']>='2015-05-18') & (df['datum']<'2016-05-08')] = 1\n",
    "df['amtsjahr'][(df['datum']>='2016-05-08') & (df['datum']<'2017-05-08')] = 2\n",
    "df['amtsjahr'][(df['datum']>='2017-05-08') & (df['datum']<'2018-05-07')] = 3\n",
    "df['amtsjahr'][(df['datum']>='2018-05-07')] = 4\n",
    "#Ergänze Daten mit Präsidium, wichtig für Zählung der Abwesenden\n",
    "df['praesidium'] = 0\n",
    "df['praesidium'][(df['datum']>='2015-05-18') & (df['datum']<'2016-05-08')] = 'Theresia Weber-Gachnang (SVP)'\n",
    "df['praesidium'][(df['datum']>='2016-05-08') & (df['datum']<'2017-05-08')] = 'Rolf Steiner (SP)'\n",
    "df['praesidium'][(df['datum']>='2017-05-08') & (df['datum']<'2018-05-07')] = 'Karin Egli (SVP)'\n",
    "df['praesidium'][(df['datum']>='2018-05-07')] = 'Yvonne Bürgin (CVP)'\n",
    "df.head()"
   ]
  },
  {
   "cell_type": "code",
   "execution_count": null,
   "metadata": {},
   "outputs": [],
   "source": [
    "#Datensatz speichern\n",
    "#df.to_csv('abstimmungsdaten_neu.csv',index=False)"
   ]
  },
  {
   "cell_type": "markdown",
   "metadata": {},
   "source": [
    "### 1. Aanalyse: die Abwesenden\n",
    "Achtung: amtsjahr 2018/2019 ist noch nicht codiert. muss deshalb ausgelassen werden."
   ]
  },
  {
   "cell_type": "code",
   "execution_count": null,
   "metadata": {},
   "outputs": [],
   "source": [
    "#Daten laden\n",
    "df = pd.read_csv('abstimmungsdaten_neu.csv')\n",
    "df.head()"
   ]
  },
  {
   "cell_type": "code",
   "execution_count": null,
   "metadata": {},
   "outputs": [],
   "source": [
    "#Überprüfen, ob Codierung stimmt\n",
    "#df[df['amtsjahr']==1].votetype_def.value_counts() #kein 0\n",
    "df[df['amtsjahr']==2].votetype_def.value_counts() #einmal eine 0\n",
    "#df[df['amtsjahr']==3].votetype_def.value_counts() #dreimal eine 0\n",
    "#df[df['amtsjahr']==4].votetype_def.value_counts()"
   ]
  },
  {
   "cell_type": "code",
   "execution_count": null,
   "metadata": {},
   "outputs": [],
   "source": [
    "#schaue problematische datensätze an, die 0 haben und nicht im noch nicht codierten amtsjahr sind\n",
    "#2016/2017\n",
    "nuller2 = list(set(df[(df['votetype_def']==0) & (df['amtsjahr']==2)].filename))\n",
    "nullcheck2 = pd.read_csv(nuller2[0], sep=';', encoding='Latin1', header=-1, dtype=str)"
   ]
  },
  {
   "cell_type": "code",
   "execution_count": null,
   "metadata": {},
   "outputs": [],
   "source": [
    "#wird als standard codiert mit 1\n",
    "df['votetype_def'][df['filename']==nuller2[0]] = 1\n",
    "df[df['filename']==nuller2[0]].head()"
   ]
  },
  {
   "cell_type": "code",
   "execution_count": null,
   "metadata": {},
   "outputs": [],
   "source": [
    "#2017/2018\n",
    "nuller3 = list(set(df[(df['votetype_def']==0) & (df['amtsjahr']==3)].filename))\n",
    "nullcheck31 = pd.read_csv(nuller3[0], sep=';', encoding='Latin1', header=-1, dtype=str)\n",
    "nullcheck32 = pd.read_csv(nuller3[1], sep=';', encoding='Latin1', header=-1, dtype=str)\n",
    "nullcheck33 = pd.read_csv(nuller3[2], sep=';', encoding='Latin1', header=-1, dtype=str)\n",
    "#nullcheck31\n",
    "#nullcheck32\n",
    "#nullcheck33"
   ]
  },
  {
   "cell_type": "code",
   "execution_count": null,
   "metadata": {},
   "outputs": [],
   "source": [
    "#1 wird als quorum codiert mit 2 | PI vorläufige unterstützung | erste zeile korrekt erfasst dann nicht mehr\n",
    "df['votetype_def'][df['filename']==nuller3[0]] = 2\n",
    "df[df['filename']==nuller3[0]].head()\n",
    "#2 wird als standard codiert mit 1 | abstimmung über Volksinitiative | plötzlich in spalte richtig\n",
    "df['votetype_def'][df['filename']==nuller3[1]] = 1\n",
    "df[df['filename']==nuller3[1]].head()\n",
    "#3 wird als standard codiert mit 1 | Standard abstimmung gesetz | erste zeile falsch\n",
    "df['votetype_def'][df['filename']==nuller3[1]] = 1\n",
    "df[df['filename']==nuller3[1]].head()\n",
    "#mache alle float\n",
    "df['votetype_def'] = df['votetype_def'].astype(float)"
   ]
  },
  {
   "cell_type": "code",
   "execution_count": null,
   "metadata": {},
   "outputs": [],
   "source": [
    "#subset für ersten drei amtsjahre und ohne quorums-abstimmungen\n",
    "df18 = df[(df['amtsjahr']<=3) & (df['votetype_def']!=2)]\n",
    "#df18 = df[(df['amtsjahr']<=3)]\n",
    "\n",
    "len(set(df18.filename))"
   ]
  },
  {
   "cell_type": "code",
   "execution_count": null,
   "metadata": {},
   "outputs": [],
   "source": [
    "#Gruppiere nach Name, Zähle, wie häufig Resultat == A | da PräsidentInnen nicht abstimmen, dort immer A, dieser rausrechnen\n",
    "abwesende = df18[['name','p_result']][(df18['p_result']=='A') & (df18['name']!=df18['praesidium'])].groupby('name').count().sort_values('p_result',ascending=False)\n",
    "abwesende= abwesende.reset_index()\n",
    "abwesende.head(100)\n",
    "#abwesende.to_csv('abwesende_bis17_18_ohnequorum.csv',index=False)\n"
   ]
  },
  {
   "cell_type": "markdown",
   "metadata": {},
   "source": [
    "### 2. Aanalyse: die Abweichler\n",
    "Als Abweichler gilt, wer gegen die Mehrheit seiner Fraktion gestimmt hat."
   ]
  },
  {
   "cell_type": "code",
   "execution_count": null,
   "metadata": {},
   "outputs": [],
   "source": [
    "#Wie hat die Partei abgestimmt?\n",
    "partyvotes = df.groupby(['p_partei','filename'])['p_result'].value_counts().unstack().reset_index()\n",
    "partyvotes.fillna(0, inplace=True)"
   ]
  },
  {
   "cell_type": "code",
   "execution_count": null,
   "metadata": {},
   "outputs": [],
   "source": [
    "partyvotes['party_result'] = 0\n",
    "partyvotes['party_result'][(partyvotes['J'] > partyvotes['N'])] = 'J'\n",
    "partyvotes['party_result'][(partyvotes['J'] < partyvotes['N'])] = 'N'\n",
    "partyvotes['party_result'][(partyvotes['J'] == partyvotes['N'])] = 'P'\n",
    "\n",
    "#falls alle enthalten oder abwesend\n",
    "partyvotes['party_result'][(partyvotes['J']==0) & (partyvotes['N'] == 0) & (partyvotes['A'] < partyvotes['E'])] = 'E'\n",
    "partyvotes['party_result'][(partyvotes['J']==0) & (partyvotes['N'] == 0) & (partyvotes['A'] > partyvotes['E'])] = 'A'"
   ]
  },
  {
   "cell_type": "code",
   "execution_count": null,
   "metadata": {},
   "outputs": [],
   "source": [
    "#Merge die beiden Datensätze nach Partei und Filename (Geschäft)\n",
    "df = pd.merge(df, partyvotes, left_on=['p_partei', 'filename'], right_on=['p_partei', 'filename'], how='left').sort_values('filename')"
   ]
  },
  {
   "cell_type": "code",
   "execution_count": null,
   "metadata": {},
   "outputs": [],
   "source": [
    "#Berechne Abweichler\n",
    "#Definition Abweichler: Nicht mit der Fraktionsmehrheit gestimmt. Bei Patt, kein Abweichen möglich. Enthalten/Abwesend kein aktives Abweichen\n",
    "df['abweichler'] = 0\n",
    "df['abweichler'][(df['p_result']!='A') & (df['p_result']!='E') & (df['p_result']!=df['party_result']) & (df['party_result']!='P')] = 1"
   ]
  },
  {
   "cell_type": "code",
   "execution_count": null,
   "metadata": {},
   "outputs": [],
   "source": [
    "abweichler = df[['name','abweichler']].groupby(['name']).sum().sort_values('abweichler', ascending=False)\n",
    "abweichler = abweichler.reset_index()\n",
    "abweichler.head(10)\n",
    "#abweichler.to_csv('abweichler.csv',index=False)"
   ]
  },
  {
   "cell_type": "markdown",
   "metadata": {},
   "source": [
    "### 3. Aanalyse: die Aktiven\n",
    "Hier werden noch einige Unterscheidungen nach Newcomer und Alteingesessenen durchgeführt"
   ]
  },
  {
   "cell_type": "code",
   "execution_count": null,
   "metadata": {},
   "outputs": [],
   "source": [
    "df = pd.read_csv('vorstoesse_parlamentariercheck.csv') #csv erstellt mit Scraper\n",
    "df = df[df['year']>=2015]\n",
    "notinlegis = df[(df['year']==2015) & (df['nr']<145)].index#erster Vorstoss der Legislatur 145/2015\n",
    "df.drop(df.index[notinlegis], inplace=True)\n",
    "df = df.dropna()\n",
    "df.head()"
   ]
  },
  {
   "cell_type": "code",
   "execution_count": null,
   "metadata": {},
   "outputs": [],
   "source": [
    "#im Datensatz nur Erstunterzeichner. Bei Gleichstand sollen Mitunterzeichnungen entscheiden.\n",
    "def get_mitunterzeichner_1(row):\n",
    "    anzahl_mitunterzeichner = len(row['beteiligte'].split('\\n'))\n",
    "    mitunterzeichner = row['beteiligte'].split('\\n')\n",
    "    if anzahl_mitunterzeichner < 3:\n",
    "        mitunterzeichner.append('NaN'*(3-anzahl_mitunterzeichner))\n",
    "    if len(mitunterzeichner) < 3:\n",
    "        mitunterzeichner.append('NaN'*(3-(len(mitunterzeichner))))\n",
    "    return mitunterzeichner[1]\n",
    "def get_mitunterzeichner_2(row):\n",
    "    anzahl_mitunterzeichner = len(row['beteiligte'].split('\\n'))\n",
    "    mitunterzeichner = row['beteiligte'].split('\\n')\n",
    "    if anzahl_mitunterzeichner < 3:\n",
    "        mitunterzeichner.append('NaN'*(3-anzahl_mitunterzeichner))\n",
    "    if len(mitunterzeichner) < 3:\n",
    "        mitunterzeichner.append('NaN'*(3-(len(mitunterzeichner))))\n",
    "    return mitunterzeichner[2]"
   ]
  },
  {
   "cell_type": "code",
   "execution_count": null,
   "metadata": {
    "scrolled": true
   },
   "outputs": [],
   "source": [
    "df['mit_1'] = df.apply(get_mitunterzeichner_1, axis=1)\n",
    "df['mit_2'] = df.apply(get_mitunterzeichner_2, axis=1)\n",
    "df['mit_1'] = df['mit_1'].str.replace(', Mitunterzeichner\\(in\\)','')\n",
    "df['mit_2'] = df['mit_2'].str.replace(', Mitunterzeichner\\(in\\)','')\n",
    "df.head()"
   ]
  },
  {
   "cell_type": "code",
   "execution_count": null,
   "metadata": {},
   "outputs": [],
   "source": [
    "#Datensatz der aktuellen Parlamentarier vom Kantonsrat laden.\n",
    "mit = pd.read_csv('mitglieder_neu.csv', sep=';')\n",
    "mit['name'] = mit['Name'].str.strip() + ' ' + mit['Vorname'].str.strip() + ' ' + '(' + mit['Partei'] + ')'\n",
    "mit.head()"
   ]
  },
  {
   "cell_type": "code",
   "execution_count": null,
   "metadata": {},
   "outputs": [],
   "source": [
    "#groupby für Erstunterzeichner\n",
    "erstunterzeichner = df[['g_erst','g_art']].groupby('g_erst').count().sort_values('g_erst' ,ascending=False).reset_index()\n",
    "erstunterzeichner"
   ]
  },
  {
   "cell_type": "code",
   "execution_count": null,
   "metadata": {},
   "outputs": [],
   "source": [
    "mitunterzeichner1= df[['mit_1','g_art']].groupby('mit_1').count().sort_values('mit_1' ,ascending=False).reset_index()\n",
    "mitunterzeichner2= df[['mit_2','g_art']].groupby('mit_2').count().sort_values('mit_2' ,ascending=False).reset_index()\n",
    "#unterzeichner = pd.concat([erstunterzeichner,mitunterzeichner1,mitunterzeichner2],axis=1).columns\n",
    "#unterzeichner.columns = ['g_erst','count_erst','g_zweit','zweit_erst','g_erst','count_erst',]"
   ]
  },
  {
   "cell_type": "code",
   "execution_count": null,
   "metadata": {},
   "outputs": [],
   "source": [
    "mitunterzeichner2"
   ]
  },
  {
   "cell_type": "code",
   "execution_count": null,
   "metadata": {},
   "outputs": [],
   "source": [
    "mit_name = pd.DataFrame(mit['name']) #liste der Namen erstellen"
   ]
  },
  {
   "cell_type": "code",
   "execution_count": null,
   "metadata": {},
   "outputs": [],
   "source": [
    "erstunterzeichner['g_erst'] = erstunterzeichner.g_erst.str.replace(', .*', ')')\n",
    "mitunterzeichner1['mit_1'] = mitunterzeichner1['mit_1'].str.replace(', .*', ')')\n",
    "mitunterzeichner2['mit_2'] = mitunterzeichner2['mit_2'].str.replace(', .*', ')')"
   ]
  },
  {
   "cell_type": "code",
   "execution_count": null,
   "metadata": {},
   "outputs": [],
   "source": [
    "ranking_erst = pd.merge(erstunterzeichner, mit_name, left_on='g_erst', right_on='name', how='right').sort_values('name', ascending=False)\n",
    "ranking_zweit = pd.merge(mitunterzeichner1, mit_name, left_on='mit_1', right_on='name', how='right').sort_values('name', ascending=False)\n",
    "ranking_dritt = pd.merge(mitunterzeichner2, mit_name, left_on='mit_2', right_on='name', how='right').sort_values('name', ascending=False)\n",
    "ranking_1_2 = pd.merge(ranking_erst, ranking_zweit, on='name')\n",
    "ranking_all = pd.merge(ranking_1_2, ranking_dritt, on='name')\n",
    "ranking_all = ranking_all[['name', 'g_art_x', 'g_art_y', 'g_art']]\n",
    "ranking_all.columns = ['name','erst','mit1','mit2']\n",
    "ranking_all.fillna(0,inplace=True)\n",
    "ranking_all['mitunter'] = ranking_all['mit1'] + ranking_all['mit2']\n",
    "ranking_all = ranking_all[['name','erst','mit1','mit2','mitunter']].sort_values(['erst','mitunter'],ascending=False)\n",
    "ranking_all = ranking_all[ranking_all.index!=180]\n",
    "ranking_all\n",
    "#ranking_all.to_csv('vorstoesse_alle.csv', index=False)\n"
   ]
  },
  {
   "cell_type": "markdown",
   "metadata": {},
   "source": [
    "##### Einschub: Kantonsrat-Website scrapen für Politiker Info\n",
    "Hier relevant: Eintrittsdatum"
   ]
  },
  {
   "cell_type": "code",
   "execution_count": null,
   "metadata": {},
   "outputs": [],
   "source": [
    "# Öffne Chrome Webdriver for Selenium\n",
    "driver = webdriver.Chrome()"
   ]
  },
  {
   "cell_type": "code",
   "execution_count": null,
   "metadata": {},
   "outputs": [],
   "source": [
    "# gehe auf website\n",
    "driver.get('https://www.kantonsrat.zh.ch/mitglieder/mitglieder.aspx')"
   ]
  },
  {
   "cell_type": "code",
   "execution_count": null,
   "metadata": {},
   "outputs": [],
   "source": [
    "#wähle feld aus, sende info\n",
    "nameselector = driver.find_element_by_xpath('//*[@id=\"tbxName\"]')\n",
    "nameselector.send_keys('Fehr')\n",
    "prenameselector = driver.find_element_by_xpath('//*[@id=\"ctl00_ctl00_ctl00_ctl00_ctl00_ContentPlaceHolderDefault_ContentPlaceHolderBody_ContentPlaceHolderDefault_ContentPlaceHolderContent_ctl00_PersonControl_8_tbxVorname\"]')\n",
    "prenameselector.send_keys('Nina')\n"
   ]
  },
  {
   "cell_type": "code",
   "execution_count": null,
   "metadata": {},
   "outputs": [],
   "source": [
    "#suche knopf, drücke knopf\n",
    "button = driver.find_element_by_xpath('//*[@id=\"ContentPlaceHolderDefault_ContentPlaceHolderBody_ContentPlaceHolderDefault_ContentPlaceHolderContent_ctl00_PersonControl_8_btnSearchPersonen\"]') #identify search field\n",
    "driver.execute_script(\"arguments[0].scrollIntoView(true)\", button) #scroll to the search\n",
    "button.click()"
   ]
  },
  {
   "cell_type": "code",
   "execution_count": null,
   "metadata": {},
   "outputs": [],
   "source": [
    "#suche link, klicke link\n",
    "link = driver.find_element_by_xpath('//*[@id=\"btn1\"]')\n",
    "driver.execute_script(\"arguments[0].scrollIntoView(true)\", link) #scroll to the search\n",
    "link.click()"
   ]
  },
  {
   "cell_type": "code",
   "execution_count": null,
   "metadata": {},
   "outputs": [],
   "source": [
    "#hole die infos als text\n",
    "info = driver.find_element_by_class_name('memberDetailInfo').text\n",
    "info"
   ]
  },
  {
   "cell_type": "code",
   "execution_count": null,
   "metadata": {},
   "outputs": [],
   "source": [
    "#bereite den loop vor (namen putzen, damit es mit der suche klappt)\n",
    "ranking_all['nachname'] = ranking_all.name.str.extract('(\\w*) ')\n",
    "ranking_all['vorname'] = ranking_all.name.str.extract('(\\w*[-]*\\w*) \\(')\n",
    "nachname = list(ranking_all['nachname'].values)\n",
    "vorname = list(ranking_all['vorname'].values)"
   ]
  },
  {
   "cell_type": "code",
   "execution_count": null,
   "metadata": {},
   "outputs": [],
   "source": [
    "# das oben beschrieben in einen Loop packen.\n",
    "driver = webdriver.Chrome()\n",
    "infolist = []\n",
    "for i in range(0,len(nachname)):\n",
    "    driver.get('https://www.kantonsrat.zh.ch/mitglieder/mitglieder.aspx')\n",
    "    #select field for year, sende value\n",
    "    print(i)\n",
    "    nameselector = driver.find_element_by_xpath('//*[@id=\"tbxName\"]')\n",
    "    nameselector.send_keys(nachname[i])\n",
    "    prenameselector = driver.find_element_by_xpath('//*[@id=\"ctl00_ctl00_ctl00_ctl00_ctl00_ContentPlaceHolderDefault_ContentPlaceHolderBody_ContentPlaceHolderDefault_ContentPlaceHolderContent_ctl00_PersonControl_8_tbxVorname\"]')\n",
    "    prenameselector.send_keys(vorname[i])\n",
    "    button = driver.find_element_by_xpath('//*[@id=\"ContentPlaceHolderDefault_ContentPlaceHolderBody_ContentPlaceHolderDefault_ContentPlaceHolderContent_ctl00_PersonControl_8_btnSearchPersonen\"]') #identify search field\n",
    "    driver.execute_script(\"arguments[0].scrollIntoView(true)\", button) #scroll to the search\n",
    "    button.click()\n",
    "    link = driver.find_element_by_xpath('//*[@id=\"btn1\"]')\n",
    "    driver.execute_script(\"arguments[0].scrollIntoView(true)\", link) #scroll to the search\n",
    "    link.click()\n",
    "    info = driver.find_element_by_class_name('memberDetailInfo').text\n",
    "    infolist.append(info)\n",
    "ranking_all['info'] = infolist\n"
   ]
  },
  {
   "cell_type": "code",
   "execution_count": null,
   "metadata": {},
   "outputs": [],
   "source": [
    "#hole das Eintrittsdatum und konvertiere es\n",
    "ranking_all['eintritt']=ranking_all['info'].str.extract('Eintritt: \\n(\\d\\d.\\d\\d.\\d\\d\\d\\d)')\n",
    "ranking_all['eintritt'] = ranking_all['eintritt'].str.replace('.', '/')\n",
    "ranking_all['eintritt'] = pd.to_datetime(ranking_all['eintritt'], format=\"%d/%m/%Y\")\n",
    "len(ranking_all)"
   ]
  },
  {
   "cell_type": "code",
   "execution_count": null,
   "metadata": {},
   "outputs": [],
   "source": [
    "#Ranking für alle, welche die ganze Legislatur dabei waren.\n",
    "ranking_volleleg = ranking_all[ranking_all['eintritt']<='2015-05-18']\n",
    "ranking_volleleg.sort_values(['erst','mitunter'],ascending=False)\n",
    "ranking_volleleg.head()\n",
    "#ranking_volleleg.to_csv('ranking_ganzelegislatur.csv', index=False)"
   ]
  },
  {
   "cell_type": "code",
   "execution_count": null,
   "metadata": {},
   "outputs": [],
   "source": [
    "#Ranking für die Newcomer. Erst seit oder während dieser Legislatur dabei.\n",
    "ranking_neue = ranking_all[ranking_all['eintritt']>='2015-05-18']\n",
    "ranking_neue.sort_values(['erst','mitunter'],ascending=False)\n",
    "ranking_neue.head()\n",
    "#ranking_neue.to_csv('ranking_neue.csv', index=False)"
   ]
  }
 ],
 "metadata": {
  "kernelspec": {
   "display_name": "Python 3",
   "language": "python",
   "name": "python3"
  },
  "language_info": {
   "codemirror_mode": {
    "name": "ipython",
    "version": 3
   },
   "file_extension": ".py",
   "mimetype": "text/x-python",
   "name": "python",
   "nbconvert_exporter": "python",
   "pygments_lexer": "ipython3",
   "version": "3.6.5"
  }
 },
 "nbformat": 4,
 "nbformat_minor": 2
}
